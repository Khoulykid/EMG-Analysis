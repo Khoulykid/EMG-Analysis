{
 "cells": [
  {
   "cell_type": "code",
   "execution_count": 2,
   "metadata": {},
   "outputs": [],
   "source": [
    "from scipy.io import loadmat\n",
    "import pandas as pd\n",
    "import numpy as np\n",
    "import matplotlib as plt\n",
    "from sklearn.neighbors import KNeighborsClassifier as KNN"
   ]
  },
  {
   "cell_type": "code",
   "execution_count": null,
   "metadata": {},
   "outputs": [
    {
     "data": {
      "text/plain": [
       "(16782, 1)"
      ]
     },
     "execution_count": 5,
     "metadata": {},
     "output_type": "execute_result"
    }
   ],
   "source": [
    "data = loadmat(\"subject_1.mat\")\n",
    "subject = data[\"subject\"]\n",
    "emg = data[\"emg\"]\n",
    "stimulus = data[\"stimulus\"]\n",
    "stimulus = np.transpose(stimulus)\n",
    "\n",
    "stimulus.shape"
   ]
  },
  {
   "cell_type": "code",
   "execution_count": 8,
   "metadata": {},
   "outputs": [
    {
     "data": {
      "text/html": [
       "<div>\n",
       "<style scoped>\n",
       "    .dataframe tbody tr th:only-of-type {\n",
       "        vertical-align: middle;\n",
       "    }\n",
       "\n",
       "    .dataframe tbody tr th {\n",
       "        vertical-align: top;\n",
       "    }\n",
       "\n",
       "    .dataframe thead th {\n",
       "        text-align: right;\n",
       "    }\n",
       "</style>\n",
       "<table border=\"1\" class=\"dataframe\">\n",
       "  <thead>\n",
       "    <tr style=\"text-align: right;\">\n",
       "      <th></th>\n",
       "      <th>0</th>\n",
       "      <th>1</th>\n",
       "      <th>2</th>\n",
       "      <th>3</th>\n",
       "      <th>4</th>\n",
       "      <th>5</th>\n",
       "      <th>6</th>\n",
       "      <th>7</th>\n",
       "      <th>8</th>\n",
       "      <th>9</th>\n",
       "      <th>stimulus</th>\n",
       "    </tr>\n",
       "  </thead>\n",
       "  <tbody>\n",
       "    <tr>\n",
       "      <th>0</th>\n",
       "      <td>-0.023489</td>\n",
       "      <td>0.198078</td>\n",
       "      <td>-0.017453</td>\n",
       "      <td>-0.006613</td>\n",
       "      <td>-0.101909</td>\n",
       "      <td>-0.037711</td>\n",
       "      <td>0.029349</td>\n",
       "      <td>-0.052670</td>\n",
       "      <td>0.077615</td>\n",
       "      <td>0.075996</td>\n",
       "      <td>0</td>\n",
       "    </tr>\n",
       "    <tr>\n",
       "      <th>1</th>\n",
       "      <td>-0.078124</td>\n",
       "      <td>0.172256</td>\n",
       "      <td>0.034426</td>\n",
       "      <td>0.001847</td>\n",
       "      <td>-0.120847</td>\n",
       "      <td>-0.068377</td>\n",
       "      <td>0.026618</td>\n",
       "      <td>-0.056334</td>\n",
       "      <td>0.125658</td>\n",
       "      <td>0.089863</td>\n",
       "      <td>0</td>\n",
       "    </tr>\n",
       "    <tr>\n",
       "      <th>2</th>\n",
       "      <td>-0.129213</td>\n",
       "      <td>0.138056</td>\n",
       "      <td>0.077481</td>\n",
       "      <td>0.001475</td>\n",
       "      <td>-0.131304</td>\n",
       "      <td>-0.087772</td>\n",
       "      <td>0.009211</td>\n",
       "      <td>-0.059509</td>\n",
       "      <td>0.153696</td>\n",
       "      <td>0.091816</td>\n",
       "      <td>0</td>\n",
       "    </tr>\n",
       "    <tr>\n",
       "      <th>3</th>\n",
       "      <td>-0.166825</td>\n",
       "      <td>0.102920</td>\n",
       "      <td>0.098318</td>\n",
       "      <td>-0.008269</td>\n",
       "      <td>-0.130015</td>\n",
       "      <td>-0.096571</td>\n",
       "      <td>-0.027021</td>\n",
       "      <td>-0.066615</td>\n",
       "      <td>0.157365</td>\n",
       "      <td>0.070016</td>\n",
       "      <td>0</td>\n",
       "    </tr>\n",
       "    <tr>\n",
       "      <th>4</th>\n",
       "      <td>-0.183610</td>\n",
       "      <td>0.072522</td>\n",
       "      <td>0.087221</td>\n",
       "      <td>-0.026295</td>\n",
       "      <td>-0.114900</td>\n",
       "      <td>-0.096324</td>\n",
       "      <td>-0.039687</td>\n",
       "      <td>-0.064432</td>\n",
       "      <td>0.138943</td>\n",
       "      <td>0.021894</td>\n",
       "      <td>0</td>\n",
       "    </tr>\n",
       "  </tbody>\n",
       "</table>\n",
       "</div>"
      ],
      "text/plain": [
       "          0         1         2         3         4         5         6  \\\n",
       "0 -0.023489  0.198078 -0.017453 -0.006613 -0.101909 -0.037711  0.029349   \n",
       "1 -0.078124  0.172256  0.034426  0.001847 -0.120847 -0.068377  0.026618   \n",
       "2 -0.129213  0.138056  0.077481  0.001475 -0.131304 -0.087772  0.009211   \n",
       "3 -0.166825  0.102920  0.098318 -0.008269 -0.130015 -0.096571 -0.027021   \n",
       "4 -0.183610  0.072522  0.087221 -0.026295 -0.114900 -0.096324 -0.039687   \n",
       "\n",
       "          7         8         9  stimulus  \n",
       "0 -0.052670  0.077615  0.075996         0  \n",
       "1 -0.056334  0.125658  0.089863         0  \n",
       "2 -0.059509  0.153696  0.091816         0  \n",
       "3 -0.066615  0.157365  0.070016         0  \n",
       "4 -0.064432  0.138943  0.021894         0  "
      ]
     },
     "execution_count": 8,
     "metadata": {},
     "output_type": "execute_result"
    }
   ],
   "source": [
    "# Create a DataFrame from the emg array\n",
    "df_1 = pd.DataFrame(emg)\n",
    "\n",
    "# Add the subject and stimulus columns to the DataFrame\n",
    "df_1['stimulus'] = stimulus[:, 0]\n",
    "\n",
    "df_1.head()"
   ]
  },
  {
   "cell_type": "code",
   "execution_count": null,
   "metadata": {},
   "outputs": [],
   "source": []
  }
 ],
 "metadata": {
  "kernelspec": {
   "display_name": "Python 3",
   "language": "python",
   "name": "python3"
  },
  "language_info": {
   "codemirror_mode": {
    "name": "ipython",
    "version": 3
   },
   "file_extension": ".py",
   "mimetype": "text/x-python",
   "name": "python",
   "nbconvert_exporter": "python",
   "pygments_lexer": "ipython3",
   "version": "3.10.12"
  }
 },
 "nbformat": 4,
 "nbformat_minor": 2
}
